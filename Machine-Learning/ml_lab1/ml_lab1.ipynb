{
 "cells": [
  {
   "cell_type": "markdown",
   "metadata": {
    "id": "Nj6IqHx6y3ev"
   },
   "source": [
    "## Набор данных Forest Cover Type\n",
    "\n",
    "Для начала импортируем основные библиотеки"
   ]
  },
  {
   "cell_type": "code",
   "execution_count": 1,
   "metadata": {
    "id": "yxBPiW79y3ew"
   },
   "outputs": [],
   "source": [
    "import pandas as pd\n",
    "import numpy as np\n",
    "import pickle"
   ]
  },
  {
   "cell_type": "markdown",
   "metadata": {},
   "source": [
    "Считаем наш набор данных и приведем его к презентабельному виду в соответствии с описанием"
   ]
  },
  {
   "cell_type": "code",
   "execution_count": 2,
   "metadata": {
    "id": "oTzHxNFcy3e1",
    "outputId": "adffe915-598e-4996-8426-1a5f8123805d"
   },
   "outputs": [
    {
     "name": "stdout",
     "output_type": "stream",
     "text": [
      "Размерность датасета: (581012, 55)\n"
     ]
    },
    {
     "data": {
      "text/html": [
       "<div>\n",
       "<style scoped>\n",
       "    .dataframe tbody tr th:only-of-type {\n",
       "        vertical-align: middle;\n",
       "    }\n",
       "\n",
       "    .dataframe tbody tr th {\n",
       "        vertical-align: top;\n",
       "    }\n",
       "\n",
       "    .dataframe thead th {\n",
       "        text-align: right;\n",
       "    }\n",
       "</style>\n",
       "<table border=\"1\" class=\"dataframe\">\n",
       "  <thead>\n",
       "    <tr style=\"text-align: right;\">\n",
       "      <th></th>\n",
       "      <th>Elevation</th>\n",
       "      <th>Aspect</th>\n",
       "      <th>Slope</th>\n",
       "      <th>Horizontal_Distance_To_Hydrology</th>\n",
       "      <th>Vertical_Distance_To_Hydrology</th>\n",
       "      <th>Horizontal_Distance_To_Roadways</th>\n",
       "      <th>Hillshade_9am</th>\n",
       "      <th>Hillshade_Noon</th>\n",
       "      <th>Hillshade_3pm</th>\n",
       "      <th>Horizontal_Distance_To_Fire_Points</th>\n",
       "      <th>...</th>\n",
       "      <th>Soil_Type32</th>\n",
       "      <th>Soil_Type33</th>\n",
       "      <th>Soil_Type34</th>\n",
       "      <th>Soil_Type35</th>\n",
       "      <th>Soil_Type36</th>\n",
       "      <th>Soil_Type37</th>\n",
       "      <th>Soil_Type38</th>\n",
       "      <th>Soil_Type39</th>\n",
       "      <th>Soil_Type40</th>\n",
       "      <th>Cover_Type</th>\n",
       "    </tr>\n",
       "  </thead>\n",
       "  <tbody>\n",
       "    <tr>\n",
       "      <th>0</th>\n",
       "      <td>2596</td>\n",
       "      <td>51</td>\n",
       "      <td>3</td>\n",
       "      <td>258</td>\n",
       "      <td>0</td>\n",
       "      <td>510</td>\n",
       "      <td>221</td>\n",
       "      <td>232</td>\n",
       "      <td>148</td>\n",
       "      <td>6279</td>\n",
       "      <td>...</td>\n",
       "      <td>0</td>\n",
       "      <td>0</td>\n",
       "      <td>0</td>\n",
       "      <td>0</td>\n",
       "      <td>0</td>\n",
       "      <td>0</td>\n",
       "      <td>0</td>\n",
       "      <td>0</td>\n",
       "      <td>0</td>\n",
       "      <td>5</td>\n",
       "    </tr>\n",
       "    <tr>\n",
       "      <th>1</th>\n",
       "      <td>2590</td>\n",
       "      <td>56</td>\n",
       "      <td>2</td>\n",
       "      <td>212</td>\n",
       "      <td>-6</td>\n",
       "      <td>390</td>\n",
       "      <td>220</td>\n",
       "      <td>235</td>\n",
       "      <td>151</td>\n",
       "      <td>6225</td>\n",
       "      <td>...</td>\n",
       "      <td>0</td>\n",
       "      <td>0</td>\n",
       "      <td>0</td>\n",
       "      <td>0</td>\n",
       "      <td>0</td>\n",
       "      <td>0</td>\n",
       "      <td>0</td>\n",
       "      <td>0</td>\n",
       "      <td>0</td>\n",
       "      <td>5</td>\n",
       "    </tr>\n",
       "    <tr>\n",
       "      <th>2</th>\n",
       "      <td>2804</td>\n",
       "      <td>139</td>\n",
       "      <td>9</td>\n",
       "      <td>268</td>\n",
       "      <td>65</td>\n",
       "      <td>3180</td>\n",
       "      <td>234</td>\n",
       "      <td>238</td>\n",
       "      <td>135</td>\n",
       "      <td>6121</td>\n",
       "      <td>...</td>\n",
       "      <td>0</td>\n",
       "      <td>0</td>\n",
       "      <td>0</td>\n",
       "      <td>0</td>\n",
       "      <td>0</td>\n",
       "      <td>0</td>\n",
       "      <td>0</td>\n",
       "      <td>0</td>\n",
       "      <td>0</td>\n",
       "      <td>2</td>\n",
       "    </tr>\n",
       "    <tr>\n",
       "      <th>3</th>\n",
       "      <td>2785</td>\n",
       "      <td>155</td>\n",
       "      <td>18</td>\n",
       "      <td>242</td>\n",
       "      <td>118</td>\n",
       "      <td>3090</td>\n",
       "      <td>238</td>\n",
       "      <td>238</td>\n",
       "      <td>122</td>\n",
       "      <td>6211</td>\n",
       "      <td>...</td>\n",
       "      <td>0</td>\n",
       "      <td>0</td>\n",
       "      <td>0</td>\n",
       "      <td>0</td>\n",
       "      <td>0</td>\n",
       "      <td>0</td>\n",
       "      <td>0</td>\n",
       "      <td>0</td>\n",
       "      <td>0</td>\n",
       "      <td>2</td>\n",
       "    </tr>\n",
       "    <tr>\n",
       "      <th>4</th>\n",
       "      <td>2595</td>\n",
       "      <td>45</td>\n",
       "      <td>2</td>\n",
       "      <td>153</td>\n",
       "      <td>-1</td>\n",
       "      <td>391</td>\n",
       "      <td>220</td>\n",
       "      <td>234</td>\n",
       "      <td>150</td>\n",
       "      <td>6172</td>\n",
       "      <td>...</td>\n",
       "      <td>0</td>\n",
       "      <td>0</td>\n",
       "      <td>0</td>\n",
       "      <td>0</td>\n",
       "      <td>0</td>\n",
       "      <td>0</td>\n",
       "      <td>0</td>\n",
       "      <td>0</td>\n",
       "      <td>0</td>\n",
       "      <td>5</td>\n",
       "    </tr>\n",
       "  </tbody>\n",
       "</table>\n",
       "<p>5 rows × 55 columns</p>\n",
       "</div>"
      ],
      "text/plain": [
       "   Elevation  Aspect  Slope  Horizontal_Distance_To_Hydrology  \\\n",
       "0       2596      51      3                               258   \n",
       "1       2590      56      2                               212   \n",
       "2       2804     139      9                               268   \n",
       "3       2785     155     18                               242   \n",
       "4       2595      45      2                               153   \n",
       "\n",
       "   Vertical_Distance_To_Hydrology  Horizontal_Distance_To_Roadways  \\\n",
       "0                               0                              510   \n",
       "1                              -6                              390   \n",
       "2                              65                             3180   \n",
       "3                             118                             3090   \n",
       "4                              -1                              391   \n",
       "\n",
       "   Hillshade_9am  Hillshade_Noon  Hillshade_3pm  \\\n",
       "0            221             232            148   \n",
       "1            220             235            151   \n",
       "2            234             238            135   \n",
       "3            238             238            122   \n",
       "4            220             234            150   \n",
       "\n",
       "   Horizontal_Distance_To_Fire_Points  ...  Soil_Type32  Soil_Type33  \\\n",
       "0                                6279  ...            0            0   \n",
       "1                                6225  ...            0            0   \n",
       "2                                6121  ...            0            0   \n",
       "3                                6211  ...            0            0   \n",
       "4                                6172  ...            0            0   \n",
       "\n",
       "   Soil_Type34  Soil_Type35  Soil_Type36  Soil_Type37  Soil_Type38  \\\n",
       "0            0            0            0            0            0   \n",
       "1            0            0            0            0            0   \n",
       "2            0            0            0            0            0   \n",
       "3            0            0            0            0            0   \n",
       "4            0            0            0            0            0   \n",
       "\n",
       "   Soil_Type39  Soil_Type40  Cover_Type  \n",
       "0            0            0           5  \n",
       "1            0            0           5  \n",
       "2            0            0           2  \n",
       "3            0            0           2  \n",
       "4            0            0           5  \n",
       "\n",
       "[5 rows x 55 columns]"
      ]
     },
     "execution_count": 2,
     "metadata": {},
     "output_type": "execute_result"
    }
   ],
   "source": [
    "num_cols = [\n",
    "    'Elevation',\n",
    "    'Aspect',\n",
    "    'Slope',\n",
    "    'Horizontal_Distance_To_Hydrology',\n",
    "    'Vertical_Distance_To_Hydrology',\n",
    "    'Horizontal_Distance_To_Roadways',\n",
    "    'Hillshade_9am',\n",
    "    'Hillshade_Noon',\n",
    "    'Hillshade_3pm',\n",
    "    'Horizontal_Distance_To_Fire_Points',\n",
    "]\n",
    "\n",
    "cat_cols = []\n",
    "\n",
    "cnt = 1\n",
    "for i in range(10, 14):\n",
    "    cat_cols.append( f'Wilderness_Area{cnt}')\n",
    "    cnt+=1\n",
    "\n",
    "cnt = 1\n",
    "for i in range(14, 54):\n",
    "    cat_cols.append(f'Soil_Type{cnt}')\n",
    "    cnt+=1\n",
    "\n",
    "feature_cols = num_cols + cat_cols\n",
    "\n",
    "target_col = 'Cover_Type'\n",
    "\n",
    "cols = feature_cols + [target_col]\n",
    "\n",
    "covtype_data = pd.read_csv(\"covtype.data\", \n",
    "                  sep=',', \n",
    "                  names=cols)\n",
    "\n",
    "print(\"Размерность датасета:\", covtype_data.shape)\n",
    "covtype_data.head()"
   ]
  },
  {
   "cell_type": "markdown",
   "metadata": {
    "id": "uk4bKe1jy3f9"
   },
   "source": [
    "Заранее разделим наши данные на тестовую, валидационную и тренировочную выборки, чтобы не допустить утечек. \n",
    "\n",
    "В информационном файле сказано следующее:\n",
    "\n",
    "\t\t-- first 11,340 records used for training data subset\n",
    "\t\t-- next 3,780 records used for validation data subset\n",
    "\t\t-- last 565,892 records used for testing data subset"
   ]
  },
  {
   "cell_type": "code",
   "execution_count": 3,
   "metadata": {},
   "outputs": [
    {
     "name": "stdout",
     "output_type": "stream",
     "text": [
      "(11340, 54) (100, 54) (11340,) (100,)\n",
      "(3780, 54) (3780,)\n",
      "(565892, 54) (10000, 54) (565892,) (10000,)\n"
     ]
    }
   ],
   "source": [
    "X_train = covtype_data[feature_cols][0:11340]\n",
    "y_train = covtype_data[target_col][0:11340]\n",
    "\n",
    "# дополнительно выделим тренировочную подвыборку размером 100 для GridSearchCV\n",
    "train_sample_size = 100\n",
    "train_data = covtype_data[0:11340].sample(n = train_sample_size)\n",
    "X_train_sample = train_data[feature_cols].copy()\n",
    "y_train_sample = train_data[target_col].copy()\n",
    "\n",
    "X_valid = covtype_data[feature_cols][11340:15120]\n",
    "y_valid = covtype_data[target_col][11340:15120]\n",
    "\n",
    "X_test = covtype_data[feature_cols][15120:581012]\n",
    "y_test = covtype_data[target_col][15120:581012]\n",
    "\n",
    "# дополнительно выделим тестовую подвыборку размером 10000 для модели KNN\n",
    "test_sample_size = 10000\n",
    "knn_test_data = covtype_data[15120:581012].sample(n = test_sample_size)\n",
    "X_test_sample = knn_test_data[feature_cols].copy()\n",
    "y_test_sample = knn_test_data[target_col].copy()\n",
    "\n",
    "print(X_train.shape, X_train_sample.shape, y_train.shape, y_train_sample.shape)\n",
    "print(X_valid.shape, y_valid.shape)\n",
    "print(X_test.shape, X_test_sample.shape, y_test.shape, y_test_sample.shape)"
   ]
  },
  {
   "cell_type": "markdown",
   "metadata": {},
   "source": [
    "Воспользуемся результатами, полученными на этапе анализа и приведем данные к виду, пригодному для обучения моделей"
   ]
  },
  {
   "cell_type": "code",
   "execution_count": 4,
   "metadata": {},
   "outputs": [],
   "source": [
    "def make_soil_type_num(data):  \n",
    "    # создадим список колонок Soil_Type\n",
    "    soil_columns = [c for c in data.columns if \"Soil\" in c]\n",
    "\n",
    "    soil_type = [None] * data['Soil_Type1'].size\n",
    "    # просуммируем их\n",
    "    for c in soil_columns:\n",
    "        i = 0\n",
    "        for index in data[c]:\n",
    "            if (index == 1):\n",
    "                soil_type[i] = int(c[9:])\n",
    "            i+=1\n",
    "\n",
    "    data.drop(columns=soil_columns, inplace=True)\n",
    "    data['Soil_Type'] = soil_type\n",
    "\n",
    "def transform(data):\n",
    "    # добавим числовой столбец типа почвы вместо one-hot-encoded\n",
    "    make_soil_type_num(data)\n",
    "    \n",
    "    # добавим линейные комбинации столбцов расстояний\n",
    "    data['Euclidian_Distance_To_Hydrology'] = (data['Horizontal_Distance_To_Hydrology']**2 + data['Vertical_Distance_To_Hydrology']**2)**0.5\n",
    "    data['Mean_Elevation_Vertical_Distance_Hydrology'] = (data['Elevation'] + data['Vertical_Distance_To_Hydrology'])/2\n",
    "    data['Mean_Distance_Hydrology_Firepoints'] = (data['Horizontal_Distance_To_Hydrology'] + data['Horizontal_Distance_To_Fire_Points'])/2\n",
    "    data['Mean_Distance_Hydrology_Roadways'] = (data['Horizontal_Distance_To_Hydrology'] + data['Horizontal_Distance_To_Roadways'])/2\n",
    "    data['Mean_Distance_Firepoints_Roadways'] = (data['Horizontal_Distance_To_Fire_Points'] + data['Horizontal_Distance_To_Roadways'])/2\n",
    "\n",
    "    # добавим произведения категориальных признаков\n",
    "    data['WA1_To_ST'] = (data['Wilderness_Area1'] * data['Soil_Type'])\n",
    "    data['WA2_To_ST'] = (data['Wilderness_Area2'] * data['Soil_Type'])\n",
    "    data['WA3_To_ST'] = (data['Wilderness_Area3'] * data['Soil_Type'])\n",
    "    data['WA4_To_ST'] = (data['Wilderness_Area4'] * data['Soil_Type'])\n",
    "\n",
    "    # заменим столбцы для которых корень показал лучшее значение\n",
    "    data['sqrt' + 'Horizontal_Distance_To_Hydrology'] = np.sqrt(data['Horizontal_Distance_To_Hydrology'])\n",
    "    data['sqrt' + 'Mean_Distance_Hydrology_Roadways'] = np.sqrt(data['Mean_Distance_Hydrology_Roadways'])\n",
    "    data['sqrt' + 'Euclidian_Distance_To_Hydrology'] = np.sqrt(data['Euclidian_Distance_To_Hydrology'])\n",
    "\n",
    "    # окончательный список признаков\n",
    "    wilderness_areas = ['Wilderness_Area1', 'Wilderness_Area2', 'Wilderness_Area3', 'Wilderness_Area4']\n",
    "    transformed_features = ['WA1_To_ST', 'WA2_To_ST', 'WA3_To_ST', 'WA4_To_ST', 'sqrtHorizontal_Distance_To_Hydrology', 'sqrtMean_Distance_Hydrology_Roadways', 'sqrtEuclidian_Distance_To_Hydrology', \n",
    "                            'Mean_Elevation_Vertical_Distance_Hydrology', 'Mean_Distance_Firepoints_Roadways', 'Mean_Distance_Hydrology_Firepoints']\n",
    "\n",
    "    all_features = (['Elevation', 'Aspect', 'Slope', 'Vertical_Distance_To_Hydrology', 'Horizontal_Distance_To_Roadways', \n",
    "                    'Hillshade_Noon', 'Hillshade_3pm', 'Horizontal_Distance_To_Fire_Points' ] + wilderness_areas +\n",
    "                    ['Soil_Type'] + transformed_features)\n",
    "    data = data[all_features]"
   ]
  },
  {
   "cell_type": "code",
   "execution_count": 5,
   "metadata": {},
   "outputs": [],
   "source": [
    "transform(X_train)\n",
    "transform(X_train_sample)\n",
    "transform(X_valid)\n",
    "transform(X_test)\n",
    "transform(X_test_sample)"
   ]
  },
  {
   "cell_type": "code",
   "execution_count": 6,
   "metadata": {},
   "outputs": [
    {
     "name": "stdout",
     "output_type": "stream",
     "text": [
      "(11340, 27) (11340,)\n"
     ]
    }
   ],
   "source": [
    "print(X_train.shape, y_train.shape)"
   ]
  },
  {
   "cell_type": "markdown",
   "metadata": {},
   "source": [
    "Также нам понадобится отдельная обработка признаков для модели `Naive Bayes`, так как нам не подойдут средние значения и категориальные признаки"
   ]
  },
  {
   "cell_type": "code",
   "execution_count": 7,
   "metadata": {},
   "outputs": [],
   "source": [
    "def drop_soil_type(data):  \n",
    "    # создадим список колонок Soil_Type\n",
    "    soil_columns = [c for c in data.columns if \"Soil\" in c]\n",
    "\n",
    "    soil_type = [None] * data['Soil_Type1'].size\n",
    "    # просуммируем их\n",
    "    for c in soil_columns:\n",
    "        i = 0\n",
    "        for index in data[c]:\n",
    "            if (index == 1):\n",
    "                soil_type[i] = int(c[9:])\n",
    "            i+=1\n",
    "\n",
    "    data.drop(columns=soil_columns, inplace=True)\n",
    "\n",
    "def drop_wa_type(data):  \n",
    "    # создадим список колонок Wilderness_Area\n",
    "    wa_columns = [c for c in data.columns if \"Wilderness\" in c]\n",
    "\n",
    "    wa_type = [None] * data['Wilderness_Area1'].size\n",
    "    # просуммируем их\n",
    "    for c in wa_columns:\n",
    "        i = 0\n",
    "        for index in data[c]:\n",
    "            if (index == 1):\n",
    "                wa_type[i] = int(c[15:])\n",
    "            i+=1\n",
    "\n",
    "    data.drop(columns=wa_columns, inplace=True)\n",
    "\n",
    "def transform_for_bayes(data):\n",
    "    drop_soil_type(data)\n",
    "    drop_wa_type(data)"
   ]
  },
  {
   "cell_type": "code",
   "execution_count": 25,
   "metadata": {},
   "outputs": [],
   "source": [
    "# перед применением необходимо заново запустить ячейки \n",
    "# со считыванием данных и разделением на train/validation/test\n",
    "transform_for_bayes(X_train)\n",
    "transform_for_bayes(X_train_sample)\n",
    "transform_for_bayes(X_valid)\n",
    "transform_for_bayes(X_test)\n",
    "transform_for_bayes(X_test_sample)"
   ]
  },
  {
   "cell_type": "code",
   "execution_count": 26,
   "metadata": {},
   "outputs": [
    {
     "name": "stdout",
     "output_type": "stream",
     "text": [
      "(11340, 10) (11340,)\n"
     ]
    }
   ],
   "source": [
    "print(X_train.shape, y_train.shape)"
   ]
  },
  {
   "cell_type": "markdown",
   "metadata": {},
   "source": [
    "Теперь наши данные готовы быть переданы на обучение"
   ]
  },
  {
   "cell_type": "markdown",
   "metadata": {},
   "source": [
    "## Реализация алгоритмов машинного обучения\n",
    "\n",
    "На этапе обучения мы сравним мои реализации с моделями из `scikit-learn`. \n",
    "\n",
    "Ниже приведены реализации следующих алгоритмов:\n",
    "- Linear/Logistic Regression\n",
    "- SVM\n",
    "- KNN \n",
    "- Naive Bayes"
   ]
  },
  {
   "cell_type": "code",
   "execution_count": 8,
   "metadata": {},
   "outputs": [],
   "source": [
    "from sklearn.base import BaseEstimator, ClassifierMixin\n",
    "from sklearn.utils.validation import check_X_y, check_array, check_is_fitted"
   ]
  },
  {
   "cell_type": "markdown",
   "metadata": {},
   "source": [
    "### `Логистическая регрессия (англ. logistic regression)`\n",
    "\n",
    "Метод построения линейного классификатора, позволяющий оценивать апостериорные вероятности принадлежности объектов классам"
   ]
  },
  {
   "cell_type": "code",
   "execution_count": 9,
   "metadata": {},
   "outputs": [],
   "source": [
    "from sklearn.preprocessing import OneHotEncoder\n",
    "from scipy.special import softmax\n",
    "\n",
    "class MyMulticlassLogisticRegression(ClassifierMixin, BaseEstimator):\n",
    "    def __init__(self, max_iter=1000, lr=0.1, mu=0.0001):\n",
    "        self.max_iter = max_iter\n",
    "        self.lr = lr\n",
    "        self.mu = mu\n",
    "    \n",
    "    def fit(self, X, y):\n",
    "\n",
    "        # Check that X and y have correct shape\n",
    "        X, y = check_X_y(X, y)\n",
    "\n",
    "        self.X_ = X\n",
    "        \n",
    "        self._label_encoder = OneHotEncoder(sparse=False)\n",
    "        self.y_ = self._label_encoder.fit_transform(y.reshape(-1, 1))\n",
    "\n",
    "        self.w_ = np.zeros((X.shape[1], self.y_.shape[1]))\n",
    "\n",
    "        # Gradient descent\n",
    "        step = 0\n",
    "        while step < self.max_iter:\n",
    "            step += 1\n",
    "            self.w_ -= self.lr * self._gradient()\n",
    "\n",
    "            # Loss calculation\n",
    "            Z = - X @ self.w_\n",
    "            N = X.shape[0]\n",
    "            self.loss = 1 / N * (np.trace(X @ self.w_ @ self.y_.T) + np.sum(np.log(np.sum(np.exp(Z), axis = 1))))\n",
    "\n",
    "        # Return the classifier\n",
    "        return self\n",
    "\n",
    "    def predict(self, X):\n",
    "\n",
    "        # Check is fit had been called\n",
    "        check_is_fitted(self, ['X_', 'y_'])\n",
    "\n",
    "        # Input validation\n",
    "        X = check_array(X)\n",
    "\n",
    "        Z = -X @ self.w_\n",
    "        P = softmax(Z, axis=1)\n",
    "        return np.argmax(P, axis = 1) + 1\n",
    "\n",
    "    def _gradient(self):\n",
    "        Z = - self.X_ @ self.w_\n",
    "        P = softmax(Z, axis=1)\n",
    "        N = self.X_.shape[0]\n",
    "        grad = 1 / N * (self.X_.T @ (self.y_ - P)) + 2 * self.mu * self.w_\n",
    "        return grad"
   ]
  },
  {
   "cell_type": "markdown",
   "metadata": {},
   "source": [
    "### `Метод опорных векторов (англ. SVM — support vector machine)`\n",
    "\n",
    "Основная идея метода заключается в построении гиперплоскости, разделяющей объекты выборки оптимальным способом. Алгоритм работает в предположении, что чем больше расстояние (зазор) между разделяющей гиперплоскостью и объектами разделяемых классов, тем меньше будет средняя ошибка классификатора"
   ]
  },
  {
   "cell_type": "code",
   "execution_count": 10,
   "metadata": {},
   "outputs": [],
   "source": [
    "from sklearn.preprocessing import LabelEncoder\n",
    "\n",
    "class MySVM(ClassifierMixin, BaseEstimator):\n",
    "    def __init__(self, C=1, max_iter=50):\n",
    "        self.C = C\n",
    "        self.max_iter = max_iter\n",
    "\n",
    "    def fit(self, X, y):\n",
    "\n",
    "        # Check that X and y have correct shape\n",
    "        X, y = check_X_y(X, y)\n",
    "\n",
    "        self.X_ = X\n",
    "        \n",
    "        n_samples, n_features = X.shape\n",
    "\n",
    "        # Normalize labels\n",
    "        self._label_encoder = LabelEncoder()\n",
    "        self.y_ = self._label_encoder.fit_transform(y)\n",
    "\n",
    "        # Initialize primal and dual coefficients\n",
    "        n_classes = len(self._label_encoder.classes_)\n",
    "        self.dual_coef_ = np.zeros((n_classes, n_samples), dtype=np.float64)\n",
    "        self.coef_ = np.zeros((n_classes, n_features))\n",
    "\n",
    "        # Pre-compute norms\n",
    "        norms = np.sqrt(np.sum(X ** 2, axis=1))\n",
    "\n",
    "        ind = np.arange(n_samples)\n",
    "        for it in range(self.max_iter):\n",
    "            for j in range(n_samples):\n",
    "                i = ind[j]\n",
    "\n",
    "                # All-zero samples can be safely ignored\n",
    "                if norms[i] == 0:\n",
    "                    continue\n",
    "\n",
    "                g = self._partial_gradient(i)\n",
    "\n",
    "                # Solve subproblem for the ith sample\n",
    "                delta = self.__solve_subproblem(g, norms, i)\n",
    "\n",
    "                # Update primal and dual coefficients\n",
    "                self.coef_ += (delta * X[i][:, np.newaxis]).T\n",
    "                self.dual_coef_[:, i] += delta\n",
    "\n",
    "        # Return the classifier\n",
    "        return self\n",
    "\n",
    "    def predict(self, X):\n",
    "        \n",
    "        # Check is fit had been called\n",
    "        check_is_fitted(self, ['X_', 'y_'])\n",
    "\n",
    "        # Input validation\n",
    "        X = check_array(X)\n",
    "        \n",
    "        decision = np.dot(X, self.coef_.T)\n",
    "        pred = decision.argmax(axis=1)\n",
    "        return self._label_encoder.inverse_transform(pred)\n",
    "\n",
    "    def _partial_gradient(self, i):\n",
    "        # Partial gradient for the ith sample\n",
    "        g = np.dot(self.X_[i], self.coef_.T) + 1\n",
    "        g[self.y_[i]] -= 1\n",
    "        return g\n",
    "\n",
    "    def _projection_simplex(self, v, z=1):\n",
    "        # Projection onto the simplex:\n",
    "        #     w^* = argmin_w 0.5 ||w-v||^2 s.t. \\sum_i w_i = z, w_i >= 0\n",
    "        n_features = v.shape[0]\n",
    "        u = np.sort(v)[::-1]\n",
    "        cssv = np.cumsum(u) - z\n",
    "        ind = np.arange(n_features) + 1\n",
    "        cond = u - cssv / ind > 0\n",
    "        rho = ind[cond][-1]\n",
    "        theta = cssv[cond][-1] / float(rho)\n",
    "        w = np.maximum(v - theta, 0)\n",
    "        return w\n",
    "\n",
    "    def __solve_subproblem(self, g, norms, i):\n",
    "        # Prepare inputs to the projection.\n",
    "        Ci = np.zeros(g.shape[0])\n",
    "        Ci[self.y_[i]] = self.C\n",
    "        beta_hat = norms[i] * (Ci - self.dual_coef_[:, i]) + g / norms[i]\n",
    "        z = self.C * norms[i]\n",
    "\n",
    "        # Compute projection onto the simplex.\n",
    "        beta = self._projection_simplex(beta_hat, z)\n",
    "\n",
    "        return Ci - self.dual_coef_[:, i] - beta / norms[i]"
   ]
  },
  {
   "cell_type": "markdown",
   "metadata": {},
   "source": [
    "### `Метод k ближайших соседей (англ. KNN — k Nearest Neighbours)`\n",
    "\n",
    "Для повышения надёжности классификации объект относится к тому классу, которому принадлежит большинство из его соседей, то есть $k$ ближайших к нему объектов обучающей выборки"
   ]
  },
  {
   "cell_type": "code",
   "execution_count": 11,
   "metadata": {},
   "outputs": [],
   "source": [
    "class MyKNN(ClassifierMixin, BaseEstimator):\n",
    "    def __init__(self, k=5):\n",
    "        self.k = k\n",
    "    \n",
    "    def fit(self, X, y):\n",
    "        # Check that X and y have correct shape\n",
    "        X, y = check_X_y(X, y)\n",
    "\n",
    "        self.X_ = X\n",
    "        self.y_ = y\n",
    "        # Return the classifier\n",
    "        return self\n",
    "    \n",
    "    def predict(self, X):\n",
    "        \n",
    "        # Check is fit had been called\n",
    "        check_is_fitted(self, ['X_', 'y_'])\n",
    "\n",
    "        # Input validation\n",
    "        X = check_array(X)\n",
    "        \n",
    "        pred = np.ndarray((X.shape[0],))\n",
    "        for i, x in enumerate(X):\n",
    "            neighbors = np.argpartition(((self.X_ - X[i]) ** 2).sum(axis=1), self.k - 1)[:self.k]\n",
    "            values, counts = np.unique(self.y_[neighbors], return_counts=True)\n",
    "            pred[i] = values[counts.argmax()]\n",
    "        return pred"
   ]
  },
  {
   "cell_type": "markdown",
   "metadata": {},
   "source": [
    "### `Наивный байесовский классификатор (англ. naive Bayes)`\n",
    "\n",
    "Простой вероятностный классификатор, основанный на применении теоремы Байеса со строгими (наивными) предположениями о независимости"
   ]
  },
  {
   "cell_type": "code",
   "execution_count": 12,
   "metadata": {},
   "outputs": [],
   "source": [
    "# Bayes Theorem form\n",
    "# P(y|X) = P(X|y) * P(y) / P(X)\n",
    "class MyNaiveBayes(ClassifierMixin, BaseEstimator):\n",
    "    def fit(self, X, y):\n",
    "        # Check that X and y have correct shape\n",
    "        X, y = check_X_y(X, y)\n",
    "\n",
    "        # Store the classes seen during fit\n",
    "        self.classes_ = np.unique(y)\n",
    "\n",
    "        self.X_ = X\n",
    "        self.y_ = y\n",
    "        \n",
    "        self.count_ = len(self.classes_)\n",
    "        self.rows_ = X.shape[0]\n",
    "        \n",
    "        self.mean_, self.var_ = self._calc_statistics()\n",
    "        self.prior_ = self._calc_prior()\n",
    "\n",
    "        # Return the classifier\n",
    "        return self\n",
    "        \n",
    "    def predict(self, X):\n",
    "        # Check is fit had been called\n",
    "        check_is_fitted(self, ['X_', 'y_'])\n",
    "\n",
    "        # Input validation\n",
    "        X = check_array(X)\n",
    "\n",
    "        pred = [self._calc_posterior(f) for f in X]\n",
    "        return pred\n",
    "\n",
    "    def _calc_prior(self):\n",
    "        # Prior probability P(y)\n",
    "        # Calculate prior probabilities\n",
    "        prior = (pd.DataFrame(self.X_).groupby(self.y_).apply(lambda x: len(x)) / self.rows_).to_numpy()\n",
    "\n",
    "        return prior\n",
    "    \n",
    "    def _calc_statistics(self):\n",
    "        # Calculate mean, variance for each column and convert to numpy array\n",
    "        mean = pd.DataFrame(self.X_).groupby(self.y_).apply(pd.DataFrame.mean).to_numpy()\n",
    "        var = pd.DataFrame(self.X_).groupby(self.y_).apply(pd.DataFrame.var).to_numpy()\n",
    "              \n",
    "        return mean, var\n",
    "    \n",
    "    def _gaussian_density(self, class_idx, x):     \n",
    "        # Calculate probability from gaussian density function (normally distributed)\n",
    "        # we will assume that probability of specific target value given specific class is normally distributed \n",
    "        \n",
    "        # Probability density function derived from wikipedia:\n",
    "        # (1/√2pi*σ) * exp((-1/2)*((x-μ)^2)/(2*σ²)), where μ is mean, σ² is variance, σ is quare root of variance (standard deviation)\n",
    "        mean = self.mean_[class_idx]\n",
    "        var = self.var_[class_idx]\n",
    "        numerator = np.exp((-1/2)*((x-mean)**2) / (2 * var))\n",
    "        denominator = np.sqrt(2 * np.pi * var)\n",
    "        prob = numerator / denominator\n",
    "        return prob\n",
    "\n",
    "    def _calc_posterior(self, x):\n",
    "        posteriors = []\n",
    "\n",
    "        # Calculate posterior probability for each class\n",
    "        for i in range(self.count_):\n",
    "            prior = np.log(self.prior_[i]) # use the log to make it more numerically stable\n",
    "            conditional = np.sum(np.log(self._gaussian_density(i, x))) # use the log to make it more numerically stable\n",
    "            posterior = prior + conditional\n",
    "            posteriors.append(posterior)\n",
    "        # Return class with highest posterior probability\n",
    "        return self.classes_[np.argmax(posteriors)]"
   ]
  },
  {
   "cell_type": "markdown",
   "metadata": {},
   "source": [
    "## Обучение \n",
    "\n",
    "Теперь нам необходимо провети настройку гиперпараметров для моделей, у которых таковые имеются. Для этого импортируем все необходимое"
   ]
  },
  {
   "cell_type": "code",
   "execution_count": 13,
   "metadata": {},
   "outputs": [],
   "source": [
    "from sklearn.preprocessing import StandardScaler\n",
    "from sklearn.pipeline import make_pipeline\n",
    "from sklearn.model_selection import RandomizedSearchCV, GridSearchCV"
   ]
  },
  {
   "cell_type": "markdown",
   "metadata": {},
   "source": [
    "Затем нам нужно обучить модели с лучшими параметрами и прозвести оценку метрик:\n",
    "- Confusion Matrix ✔\n",
    "- Accuracy ✔\n",
    "- Recall ✔\n",
    "- Precision ✔\n",
    "- ROC_AUC curve ✘ (т.к. применяется лишь для бинарной классификации)"
   ]
  },
  {
   "cell_type": "code",
   "execution_count": 14,
   "metadata": {},
   "outputs": [],
   "source": [
    "from sklearn.metrics import classification_report, confusion_matrix\n",
    "from sklearn.metrics import ConfusionMatrixDisplay\n",
    "from matplotlib import pyplot as plt\n",
    "\n",
    "def find_metrics(classifier, X, y):\n",
    "    y_pred = classifier.predict(X)\n",
    "    forest_cover_type_classes  = [  'Spruce/Fir (1)',\n",
    "                                    'Lodgepole Pine (2)',\n",
    "                                    'Ponderosa Pine (3)',\n",
    "                                    'Cottonwood/Willow (4)',\n",
    "                                    'Aspen (5)',\n",
    "                                    'Douglas-fir (6)',\n",
    "                                    'Krummholz (7)' \n",
    "                                 ]\n",
    "    print(classification_report(y, y_pred, target_names=forest_cover_type_classes))\n",
    "    cm = confusion_matrix(y, y_pred)\n",
    "    ConfusionMatrixDisplay(confusion_matrix=cm, display_labels=[1, 2, 3, 4, 5, 6, 7]).plot()\n",
    "    plt.show()"
   ]
  },
  {
   "cell_type": "markdown",
   "metadata": {},
   "source": [
    "Теперь перейдем непосредственно к обучению и сравнению реализаций"
   ]
  },
  {
   "cell_type": "markdown",
   "metadata": {},
   "source": [
    "### Logistic Regression\n",
    "\n",
    "#### `1. MyMulticlassLogisticRegression`"
   ]
  },
  {
   "cell_type": "code",
   "execution_count": 20,
   "metadata": {},
   "outputs": [
    {
     "name": "stdout",
     "output_type": "stream",
     "text": [
      "Fitting 5 folds for each of 10 candidates, totalling 50 fits\n",
      "{'mymulticlasslogisticregression__mu': 1e-06, 'mymulticlasslogisticregression__max_iter': 1000, 'mymulticlasslogisticregression__lr': 0.01}\n",
      "0.5733528138528139\n"
     ]
    }
   ],
   "source": [
    "myLR_pipeline = make_pipeline(StandardScaler(), MyMulticlassLogisticRegression())\n",
    "\n",
    "param_grid = {\n",
    "    'mymulticlasslogisticregression__max_iter': [100, 1000, 10000, 100000],\n",
    "    'mymulticlasslogisticregression__lr': [0.1, 0.05, 0.01, 0.001],\n",
    "    'mymulticlasslogisticregression__mu': [0.01, 0.0001, 0.000001]\n",
    "}\n",
    "\n",
    "randomized_search = RandomizedSearchCV(myLR_pipeline, param_grid, n_jobs=-1, cv=5, verbose=1, scoring='f1_weighted')\n",
    "randomized_search.fit(X_train_sample, y_train_sample)\n",
    "\n",
    "print(randomized_search.best_params_)\n",
    "print(randomized_search.best_score_)"
   ]
  },
  {
   "cell_type": "code",
   "execution_count": null,
   "metadata": {},
   "outputs": [],
   "source": [
    "myLR_pipeline_best = make_pipeline(StandardScaler(), \n",
    "                                   MyMulticlassLogisticRegression(mu=1e-06, max_iter=1000, lr=0.1))\n",
    "myLR_pipeline_best.fit(X_train, y_train)"
   ]
  },
  {
   "cell_type": "code",
   "execution_count": 23,
   "metadata": {},
   "outputs": [],
   "source": [
    "with open('dumps/my_logistic_regression.pkl', 'wb') as f:\n",
    "    pickle.dump(myLR_pipeline_best, f, pickle.HIGHEST_PROTOCOL)"
   ]
  },
  {
   "cell_type": "code",
   "execution_count": 24,
   "metadata": {},
   "outputs": [
    {
     "name": "stdout",
     "output_type": "stream",
     "text": [
      "                       precision    recall  f1-score   support\n",
      "\n",
      "       Spruce/Fir (1)       0.67      0.54      0.60    209680\n",
      "   Lodgepole Pine (2)       0.81      0.46      0.59    281141\n",
      "   Ponderosa Pine (3)       0.60      0.55      0.57     33594\n",
      "Cottonwood/Willow (4)       0.06      0.92      0.12       587\n",
      "            Aspen (5)       0.07      0.70      0.12      7333\n",
      "      Douglas-fir (6)       0.26      0.56      0.35     15207\n",
      "        Krummholz (7)       0.19      0.90      0.32     18350\n",
      "\n",
      "             accuracy                           0.52    565892\n",
      "            macro avg       0.38      0.66      0.38    565892\n",
      "         weighted avg       0.70      0.52      0.57    565892\n",
      "\n"
     ]
    },
    {
     "data": {
      "image/png": "[encoded data removed]",
      "text/plain": [
       "<Figure size 432x288 with 2 Axes>"
      ]
     },
     "metadata": {
      "needs_background": "light"
     },
     "output_type": "display_data"
    }
   ],
   "source": [
    "with open('dumps/my_logistic_regression.pkl','rb') as f:\n",
    "    my_logistic_regression = pickle.load(f)\n",
    "find_metrics(my_logistic_regression, X_test, y_test)"
   ]
  },
  {
   "cell_type": "markdown",
   "metadata": {},
   "source": [
    "#### `2. LogisticRegression`"
   ]
  },
  {
   "cell_type": "code",
   "execution_count": 28,
   "metadata": {},
   "outputs": [
    {
     "name": "stdout",
     "output_type": "stream",
     "text": [
      "Fitting 5 folds for each of 1 candidates, totalling 5 fits\n",
      "{'logisticregression__C': 4, 'logisticregression__solver': 'newton-cg'}\n",
      "0.5861111633062949\n"
     ]
    }
   ],
   "source": [
    "from sklearn.linear_model import LogisticRegression\n",
    "\n",
    "LR_pipeline = make_pipeline(StandardScaler(), LogisticRegression())\n",
    "\n",
    "param_grid = {\n",
    "    'logisticregression__C': np.arange(1, 5),\n",
    "    'logisticregression__solver': ['newton-cg', 'lbfgs', 'liblinear', 'sag', 'saga']\n",
    "}\n",
    "\n",
    "grid_search = GridSearchCV(LR_pipeline, param_grid, n_jobs=-1, cv=5, verbose=1, scoring='f1_weighted')\n",
    "grid_search.fit(X_train, y_train)\n",
    "\n",
    "print(grid_search.best_params_)\n",
    "print(grid_search.best_score_)"
   ]
  },
  {
   "cell_type": "code",
   "execution_count": 29,
   "metadata": {},
   "outputs": [],
   "source": [
    "with open('dumps/logistic_regression.pkl', 'wb') as f:\n",
    "    pickle.dump(grid_search.best_estimator_, f, pickle.HIGHEST_PROTOCOL)"
   ]
  },
  {
   "cell_type": "code",
   "execution_count": 18,
   "metadata": {},
   "outputs": [
    {
     "name": "stdout",
     "output_type": "stream",
     "text": [
      "                       precision    recall  f1-score   support\n",
      "\n",
      "       Spruce/Fir (1)       0.67      0.63      0.65    209680\n",
      "   Lodgepole Pine (2)       0.79      0.51      0.62    281141\n",
      "   Ponderosa Pine (3)       0.69      0.58      0.63     33594\n",
      "Cottonwood/Willow (4)       0.09      0.90      0.17       587\n",
      "            Aspen (5)       0.08      0.77      0.15      7333\n",
      "      Douglas-fir (6)       0.31      0.66      0.42     15207\n",
      "        Krummholz (7)       0.33      0.89      0.48     18350\n",
      "\n",
      "             accuracy                           0.58    565892\n",
      "            macro avg       0.42      0.71      0.45    565892\n",
      "         weighted avg       0.70      0.58      0.62    565892\n",
      "\n"
     ]
    },
    {
     "data": {
      "image/png": "[encoded data removed]",
      "text/plain": [
       "<Figure size 432x288 with 2 Axes>"
      ]
     },
     "metadata": {
      "needs_background": "light"
     },
     "output_type": "display_data"
    }
   ],
   "source": [
    "with open('dumps/logistic_regression.pkl','rb') as f:\n",
    "    logistic_regression = pickle.load(f)\n",
    "find_metrics(logistic_regression, X_test, y_test)"
   ]
  },
  {
   "cell_type": "markdown",
   "metadata": {},
   "source": [
    "### SVM\n",
    "\n",
    "#### `1. MySVM`"
   ]
  },
  {
   "cell_type": "code",
   "execution_count": 15,
   "metadata": {},
   "outputs": [
    {
     "name": "stdout",
     "output_type": "stream",
     "text": [
      "Fitting 5 folds for each of 12 candidates, totalling 60 fits\n",
      "{'mysvm__C': 5, 'mysvm__max_iter': 1000}\n",
      "0.4996515151515151\n"
     ]
    }
   ],
   "source": [
    "mySVM_pipeline = make_pipeline(StandardScaler(), MySVM())\n",
    "\n",
    "param_grid = {\n",
    "    'mysvm__C': [1, 3, 5, 10],\n",
    "    'mysvm__max_iter': [50, 100, 1000]\n",
    "}\n",
    "\n",
    "grid_search = GridSearchCV(mySVM_pipeline, param_grid, n_jobs=-1, cv=5, verbose=1, scoring='f1_weighted')\n",
    "grid_search.fit(X_train_sample, y_train_sample)\n",
    "\n",
    "print(grid_search.best_params_)\n",
    "print(grid_search.best_score_)"
   ]
  },
  {
   "cell_type": "code",
   "execution_count": null,
   "metadata": {},
   "outputs": [],
   "source": [
    "mySVM_pipeline_best = make_pipeline(StandardScaler(), \n",
    "                               MySVM(C=5, max_iter=1000))\n",
    "mySVM_pipeline_best.fit(X_train, y_train)"
   ]
  },
  {
   "cell_type": "code",
   "execution_count": 17,
   "metadata": {},
   "outputs": [],
   "source": [
    "with open('dumps/my_svm.pkl', 'wb') as f:\n",
    "    pickle.dump(mySVM_pipeline_best, f, pickle.HIGHEST_PROTOCOL)"
   ]
  },
  {
   "cell_type": "code",
   "execution_count": 18,
   "metadata": {},
   "outputs": [
    {
     "name": "stdout",
     "output_type": "stream",
     "text": [
      "                       precision    recall  f1-score   support\n",
      "\n",
      "       Spruce/Fir (1)       0.53      0.88      0.66    209680\n",
      "   Lodgepole Pine (2)       0.80      0.21      0.33    281141\n",
      "   Ponderosa Pine (3)       0.55      0.79      0.65     33594\n",
      "Cottonwood/Willow (4)       0.15      0.42      0.22       587\n",
      "            Aspen (5)       0.06      0.50      0.11      7333\n",
      "      Douglas-fir (6)       0.29      0.47      0.36     15207\n",
      "        Krummholz (7)       0.53      0.37      0.43     18350\n",
      "\n",
      "             accuracy                           0.51    565892\n",
      "            macro avg       0.41      0.52      0.39    565892\n",
      "         weighted avg       0.65      0.51      0.47    565892\n",
      "\n"
     ]
    },
    {
     "data": {
      "image/png": "[encoded data removed]",
      "text/plain": [
       "<Figure size 432x288 with 2 Axes>"
      ]
     },
     "metadata": {
      "needs_background": "light"
     },
     "output_type": "display_data"
    }
   ],
   "source": [
    "with open('dumps/my_svm.pkl','rb') as f:\n",
    "    my_svm = pickle.load(f)\n",
    "find_metrics(my_svm, X_test, y_test)"
   ]
  },
  {
   "cell_type": "markdown",
   "metadata": {},
   "source": [
    "#### `2. SVC`"
   ]
  },
  {
   "cell_type": "code",
   "execution_count": null,
   "metadata": {},
   "outputs": [],
   "source": [
    "from sklearn.svm import SVC\n",
    "\n",
    "SVM_pipeline = make_pipeline(StandardScaler(), SVC(gamma='auto', probability=False))\n",
    "SVM_pipeline.fit(X_train, y_train)"
   ]
  },
  {
   "cell_type": "code",
   "execution_count": 12,
   "metadata": {},
   "outputs": [],
   "source": [
    "with open('dumps/svm.pkl', 'wb') as f:\n",
    "    pickle.dump(SVM_pipeline, f, pickle.HIGHEST_PROTOCOL)"
   ]
  },
  {
   "cell_type": "code",
   "execution_count": 13,
   "metadata": {},
   "outputs": [
    {
     "name": "stdout",
     "output_type": "stream",
     "text": [
      "                       precision    recall  f1-score   support\n",
      "\n",
      "       Spruce/Fir (1)       0.71      0.69      0.70    209680\n",
      "   Lodgepole Pine (2)       0.82      0.56      0.67    281141\n",
      "   Ponderosa Pine (3)       0.67      0.65      0.66     33594\n",
      "Cottonwood/Willow (4)       0.11      0.94      0.19       587\n",
      "            Aspen (5)       0.11      0.87      0.19      7333\n",
      "      Douglas-fir (6)       0.35      0.73      0.48     15207\n",
      "        Krummholz (7)       0.43      0.93      0.59     18350\n",
      "\n",
      "             accuracy                           0.64    565892\n",
      "            macro avg       0.46      0.77      0.50    565892\n",
      "         weighted avg       0.74      0.64      0.67    565892\n",
      "\n"
     ]
    },
    {
     "data": {
      "image/png": "[encoded data removed]",
      "text/plain": [
       "<Figure size 432x288 with 2 Axes>"
      ]
     },
     "metadata": {
      "needs_background": "light"
     },
     "output_type": "display_data"
    }
   ],
   "source": [
    "with open('dumps/svm.pkl','rb') as f:\n",
    "    svm = pickle.load(f)\n",
    "find_metrics(svm, X_test, y_test)"
   ]
  },
  {
   "cell_type": "markdown",
   "metadata": {},
   "source": [
    "### KNN \n",
    "\n",
    "#### `1. MyKNN`"
   ]
  },
  {
   "cell_type": "code",
   "execution_count": 15,
   "metadata": {},
   "outputs": [
    {
     "name": "stdout",
     "output_type": "stream",
     "text": [
      "Fitting 5 folds for each of 4 candidates, totalling 20 fits\n",
      "{'myknn__k': 10}\n",
      "0.5124977876048389\n"
     ]
    }
   ],
   "source": [
    "myKNN_pipeline = make_pipeline(StandardScaler(), MyKNN())\n",
    "\n",
    "param_grid = {'myknn__k': [1, 3, 5, 10]}\n",
    "\n",
    "grid_search = GridSearchCV(myKNN_pipeline, param_grid, n_jobs=-1, cv=5, verbose=1, scoring='f1_weighted')\n",
    "grid_search.fit(X_train, y_train)\n",
    "\n",
    "print(grid_search.best_params_)\n",
    "print(grid_search.best_score_)"
   ]
  },
  {
   "cell_type": "code",
   "execution_count": 21,
   "metadata": {},
   "outputs": [],
   "source": [
    "with open('dumps/my_knn.pkl', 'wb') as f:\n",
    "    pickle.dump(grid_search.best_estimator_, f, pickle.HIGHEST_PROTOCOL)"
   ]
  },
  {
   "cell_type": "code",
   "execution_count": 19,
   "metadata": {},
   "outputs": [
    {
     "name": "stdout",
     "output_type": "stream",
     "text": [
      "                       precision    recall  f1-score   support\n",
      "\n",
      "       Spruce/Fir (1)       0.69      0.65      0.67      3798\n",
      "   Lodgepole Pine (2)       0.80      0.51      0.62      4866\n",
      "   Ponderosa Pine (3)       0.61      0.68      0.64       596\n",
      "Cottonwood/Willow (4)       0.12      1.00      0.22        13\n",
      "            Aspen (5)       0.11      0.89      0.19       137\n",
      "      Douglas-fir (6)       0.36      0.73      0.49       278\n",
      "        Krummholz (7)       0.32      0.95      0.48       312\n",
      "\n",
      "             accuracy                           0.60     10000\n",
      "            macro avg       0.43      0.77      0.47     10000\n",
      "         weighted avg       0.71      0.60      0.63     10000\n",
      "\n"
     ]
    },
    {
     "data": {
      "image/png": "[encoded data removed]",
      "text/plain": [
       "<Figure size 432x288 with 2 Axes>"
      ]
     },
     "metadata": {
      "needs_background": "light"
     },
     "output_type": "display_data"
    }
   ],
   "source": [
    "with open('dumps/my_knn.pkl','rb') as f:\n",
    "    my_knn = pickle.load(f)\n",
    "find_metrics(my_knn, X_test_sample, y_test_sample)"
   ]
  },
  {
   "cell_type": "markdown",
   "metadata": {},
   "source": [
    "#### `2. KNeighborsClassifier`"
   ]
  },
  {
   "cell_type": "code",
   "execution_count": 20,
   "metadata": {},
   "outputs": [
    {
     "name": "stdout",
     "output_type": "stream",
     "text": [
      "Fitting 5 folds for each of 4 candidates, totalling 20 fits\n",
      "{'kneighborsclassifier__n_neighbors': 10}\n",
      "0.5124977876048389\n"
     ]
    }
   ],
   "source": [
    "from sklearn.neighbors import KNeighborsClassifier\n",
    "\n",
    "KNN_pipeline = make_pipeline(StandardScaler(), KNeighborsClassifier())\n",
    "param_grid = {'kneighborsclassifier__n_neighbors': [1, 3, 5, 10]}\n",
    "\n",
    "grid_search = GridSearchCV(KNN_pipeline, param_grid, n_jobs=-1, cv=5, verbose=1, scoring='f1_weighted')\n",
    "grid_search.fit(X_train, y_train)\n",
    "\n",
    "print(grid_search.best_params_)\n",
    "print(grid_search.best_score_)"
   ]
  },
  {
   "cell_type": "code",
   "execution_count": 21,
   "metadata": {},
   "outputs": [],
   "source": [
    "with open('dumps/knn.pkl', 'wb') as f:\n",
    "    pickle.dump(grid_search.best_estimator_, f, pickle.HIGHEST_PROTOCOL)"
   ]
  },
  {
   "cell_type": "code",
   "execution_count": 22,
   "metadata": {},
   "outputs": [
    {
     "name": "stdout",
     "output_type": "stream",
     "text": [
      "                       precision    recall  f1-score   support\n",
      "\n",
      "       Spruce/Fir (1)       0.68      0.64      0.66    209680\n",
      "   Lodgepole Pine (2)       0.81      0.50      0.62    281141\n",
      "   Ponderosa Pine (3)       0.64      0.70      0.67     33594\n",
      "Cottonwood/Willow (4)       0.11      0.96      0.19       587\n",
      "            Aspen (5)       0.10      0.91      0.18      7333\n",
      "      Douglas-fir (6)       0.35      0.75      0.48     15207\n",
      "        Krummholz (7)       0.33      0.95      0.49     18350\n",
      "\n",
      "             accuracy                           0.59    565892\n",
      "            macro avg       0.43      0.77      0.47    565892\n",
      "         weighted avg       0.71      0.59      0.62    565892\n",
      "\n"
     ]
    },
    {
     "data": {
      "image/png": "[encoded data removed]",
      "text/plain": [
       "<Figure size 432x288 with 2 Axes>"
      ]
     },
     "metadata": {
      "needs_background": "light"
     },
     "output_type": "display_data"
    }
   ],
   "source": [
    "with open('dumps/knn.pkl','rb') as f:\n",
    "    knn = pickle.load(f)\n",
    "find_metrics(knn, X_test, y_test)"
   ]
  },
  {
   "cell_type": "markdown",
   "metadata": {},
   "source": [
    "### Naive Bayes\n",
    "\n",
    "Важно на этом этапе вернуться к предобработке признаков и провести их трансформацию именно для этого метода\n",
    "\n",
    "#### `1. MyNaiveBayes`"
   ]
  },
  {
   "cell_type": "code",
   "execution_count": 27,
   "metadata": {},
   "outputs": [],
   "source": [
    "my_naive_bayes = MyNaiveBayes()\n",
    "my_naive_bayes.fit(X_train, y_train)"
   ]
  },
  {
   "cell_type": "code",
   "execution_count": 28,
   "metadata": {},
   "outputs": [],
   "source": [
    "with open('dumps/my_naive_bayes.pkl', 'wb') as f:\n",
    "    pickle.dump(my_naive_bayes, f, pickle.HIGHEST_PROTOCOL)"
   ]
  },
  {
   "cell_type": "code",
   "execution_count": 29,
   "metadata": {},
   "outputs": [
    {
     "name": "stdout",
     "output_type": "stream",
     "text": [
      "                       precision    recall  f1-score   support\n",
      "\n",
      "       Spruce/Fir (1)       0.58      0.63      0.60    209680\n",
      "   Lodgepole Pine (2)       0.80      0.21      0.33    281141\n",
      "   Ponderosa Pine (3)       0.50      0.18      0.26     33594\n",
      "Cottonwood/Willow (4)       0.03      0.94      0.06       587\n",
      "            Aspen (5)       0.05      0.75      0.09      7333\n",
      "      Douglas-fir (6)       0.16      0.53      0.25     15207\n",
      "        Krummholz (7)       0.22      0.81      0.35     18350\n",
      "\n",
      "             accuracy                           0.40    565892\n",
      "            macro avg       0.33      0.58      0.28    565892\n",
      "         weighted avg       0.65      0.40      0.42    565892\n",
      "\n"
     ]
    },
    {
     "data": {
      "image/png": "[encoded data removed]",
      "text/plain": [
       "<Figure size 432x288 with 2 Axes>"
      ]
     },
     "metadata": {
      "needs_background": "light"
     },
     "output_type": "display_data"
    }
   ],
   "source": [
    "with open('dumps/my_naive_bayes.pkl','rb') as f:\n",
    "    my_naive_bayes = pickle.load(f)\n",
    "find_metrics(my_naive_bayes, X_test, y_test)"
   ]
  },
  {
   "cell_type": "markdown",
   "metadata": {},
   "source": [
    "#### `2. GaussianNB`"
   ]
  },
  {
   "cell_type": "code",
   "execution_count": 30,
   "metadata": {},
   "outputs": [
    {
     "name": "stdout",
     "output_type": "stream",
     "text": [
      "Fitting 5 folds for each of 100 candidates, totalling 500 fits\n",
      "{'var_smoothing': 0.0002848035868435802}\n",
      "0.5268472842749047\n"
     ]
    }
   ],
   "source": [
    "from sklearn.naive_bayes import GaussianNB\n",
    "\n",
    "param_grid = {'var_smoothing': np.logspace(0,-9, num=100)}\n",
    "\n",
    "grid_search = GridSearchCV(GaussianNB(), param_grid, n_jobs=-1, cv=5, verbose=1, scoring='f1_weighted')\n",
    "grid_search.fit(X_train, y_train)\n",
    "\n",
    "print(grid_search.best_params_)\n",
    "print(grid_search.best_score_)"
   ]
  },
  {
   "cell_type": "code",
   "execution_count": 31,
   "metadata": {},
   "outputs": [],
   "source": [
    "with open('dumps/naive_bayes.pkl', 'wb') as f:\n",
    "    pickle.dump(grid_search.best_estimator_, f, pickle.HIGHEST_PROTOCOL)"
   ]
  },
  {
   "cell_type": "code",
   "execution_count": 32,
   "metadata": {},
   "outputs": [
    {
     "name": "stdout",
     "output_type": "stream",
     "text": [
      "                       precision    recall  f1-score   support\n",
      "\n",
      "       Spruce/Fir (1)       0.61      0.60      0.60    209680\n",
      "   Lodgepole Pine (2)       0.77      0.33      0.47    281141\n",
      "   Ponderosa Pine (3)       0.56      0.31      0.40     33594\n",
      "Cottonwood/Willow (4)       0.04      0.81      0.08       587\n",
      "            Aspen (5)       0.06      0.74      0.10      7333\n",
      "      Douglas-fir (6)       0.20      0.52      0.29     15207\n",
      "        Krummholz (7)       0.23      0.84      0.36     18350\n",
      "\n",
      "             accuracy                           0.46    565892\n",
      "            macro avg       0.35      0.59      0.33    565892\n",
      "         weighted avg       0.65      0.46      0.50    565892\n",
      "\n"
     ]
    },
    {
     "data": {
      "image/png": "[encoded data removed]",
      "text/plain": [
       "<Figure size 432x288 with 2 Axes>"
      ]
     },
     "metadata": {
      "needs_background": "light"
     },
     "output_type": "display_data"
    }
   ],
   "source": [
    "with open('dumps/naive_bayes.pkl','rb') as f:\n",
    "    naive_bayes = pickle.load(f)\n",
    "find_metrics(naive_bayes, X_test, y_test)"
   ]
  },
  {
   "cell_type": "markdown",
   "metadata": {},
   "source": [
    "## Результаты\n",
    "\n",
    "|                                | Accuracy | Recall | Precision |\n",
    "| -----------------------------: | :------: | :----: | :-------: |\n",
    "| MyMulticlassLogisticRegression | 0.52     | 0.52   | 0.70      | \n",
    "| LogisticRegression             | 0.58     | 0.58   | 0.70      | \n",
    "| MySVM                          | 0.51     | 0.51   | 0.65      | \n",
    "| SVC                            | 0.64     | 0.64   | 0.74      | \n",
    "| MyKNN                          | 0.60     | 0.60   | 0.71      | \n",
    "| KNeighborsClassifier           | 0.59     | 0.59   | 0.71      | \n",
    "| MyNaiveBayes                   | 0.40     | 0.40   | 0.65      | \n",
    "| GaussianNB                     | 0.46     | 0.46   | 0.65      | \n",
    "\n",
    "Лучшей моделью по всем параметрам (кроме времени обучения T_T) оказалась `SVC`, а из моих моделей лучшей оказалась `KNN`. Хотя стоит отметить, что все модели имеют не очень высокие значения метрик, это связано, по большей части, с особеностями самого набора данных. \n",
    "\n",
    "Лучше всего модели угадывают:\n",
    "- `Lodgepole Pine (2)`\n",
    "- `Spruce/Fir (1)`\n",
    "\n",
    "а хуже всего:\n",
    "- `Cottonwood/Willow (4)` \n",
    "- `Aspen (5)`\n"
   ]
  }
 ],
 "metadata": {
  "colab": {
   "collapsed_sections": [],
   "name": "[seminar, prodv]ml_basics.ipynb",
   "provenance": []
  },
  "hide_input": false,
  "interpreter": {
   "hash": "11938c6bc6919ae2720b4d5011047913343b08a43b18698fd82dedb0d4417594"
  },
  "kernelspec": {
   "display_name": "Python 3.9.7 64-bit",
   "language": "python",
   "name": "python3"
  },
  "language_info": {
   "codemirror_mode": {
    "name": "ipython",
    "version": 3
   },
   "file_extension": ".py",
   "mimetype": "text/x-python",
   "name": "python",
   "nbconvert_exporter": "python",
   "pygments_lexer": "ipython3",
   "version": "3.9.7"
  },
  "varInspector": {
   "cols": {
    "lenName": 16,
    "lenType": 16,
    "lenVar": 40
   },
   "kernels_config": {
    "python": {
     "delete_cmd_postfix": "",
     "delete_cmd_prefix": "del ",
     "library": "var_list.py",
     "varRefreshCmd": "print(var_dic_list())"
    },
    "r": {
     "delete_cmd_postfix": ") ",
     "delete_cmd_prefix": "rm(",
     "library": "var_list.r",
     "varRefreshCmd": "cat(var_dic_list()) "
    }
   },
   "types_to_exclude": [
    "module",
    "function",
    "builtin_function_or_method",
    "instance",
    "_Feature"
   ],
   "window_display": false
  }
 },
 "nbformat": 4,
 "nbformat_minor": 1
}
